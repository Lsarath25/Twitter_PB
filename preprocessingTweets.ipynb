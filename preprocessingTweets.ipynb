{
  "nbformat": 4,
  "nbformat_minor": 0,
  "metadata": {
    "colab": {
      "name": "preprocessingTweets.ipynb",
      "provenance": [],
      "collapsed_sections": []
    },
    "kernelspec": {
      "name": "python3",
      "display_name": "Python 3"
    },
    "language_info": {
      "name": "python"
    }
  },
  "cells": [
    {
      "cell_type": "markdown",
      "source": [
        "#Installing pyspark"
      ],
      "metadata": {
        "id": "uByrD5rOZgat"
      }
    },
    {
      "cell_type": "code",
      "metadata": {
        "colab": {
          "base_uri": "https://localhost:8080/"
        },
        "id": "2EpzXQS0MQMU",
        "outputId": "7a19d86b-a181-467b-9836-00a7b438f51c"
      },
      "source": [
        "pip install pyspark"
      ],
      "execution_count": 4,
      "outputs": [
        {
          "output_type": "stream",
          "name": "stdout",
          "text": [
            "Looking in indexes: https://pypi.org/simple, https://us-python.pkg.dev/colab-wheels/public/simple/\n",
            "Collecting pyspark\n",
            "  Downloading pyspark-3.3.0.tar.gz (281.3 MB)\n",
            "\u001b[K     |████████████████████████████████| 281.3 MB 36 kB/s \n",
            "\u001b[?25hCollecting py4j==0.10.9.5\n",
            "  Downloading py4j-0.10.9.5-py2.py3-none-any.whl (199 kB)\n",
            "\u001b[K     |████████████████████████████████| 199 kB 47.1 MB/s \n",
            "\u001b[?25hBuilding wheels for collected packages: pyspark\n",
            "  Building wheel for pyspark (setup.py) ... \u001b[?25l\u001b[?25hdone\n",
            "  Created wheel for pyspark: filename=pyspark-3.3.0-py2.py3-none-any.whl size=281764026 sha256=7f63248bf817c0eddb3eea9dc15845e97848613066fedb052b4cdc59b11371c3\n",
            "  Stored in directory: /root/.cache/pip/wheels/7a/8e/1b/f73a52650d2e5f337708d9f6a1750d451a7349a867f928b885\n",
            "Successfully built pyspark\n",
            "Installing collected packages: py4j, pyspark\n",
            "Successfully installed py4j-0.10.9.5 pyspark-3.3.0\n"
          ]
        }
      ]
    },
    {
      "cell_type": "markdown",
      "source": [
        "#Importing Required Libararies"
      ],
      "metadata": {
        "id": "W61OnnIHZjxA"
      }
    },
    {
      "cell_type": "code",
      "metadata": {
        "id": "Sa2C4hEqMlDD"
      },
      "source": [
        "#importing pyspark library\n",
        "import pyspark as ps\n",
        "#preprocesing text\n",
        "from pyspark.sql.functions import regexp_replace\n",
        "from pyspark.sql.functions import regexp_extract\n",
        "\n",
        "from pyspark.sql import Row\n"
      ],
      "execution_count": 31,
      "outputs": []
    },
    {
      "cell_type": "markdown",
      "source": [
        "#Setting configaration and creating sql context object "
      ],
      "metadata": {
        "id": "cfNAtc6QZpnJ"
      }
    },
    {
      "cell_type": "code",
      "metadata": {
        "colab": {
          "base_uri": "https://localhost:8080/"
        },
        "id": "B8vYWfPtMaN8",
        "outputId": "7e62e09c-d8f8-4517-87f8-8f6f8799b81e"
      },
      "source": [
        "\n",
        "conf = ps.SparkConf().setAll([('spark.executor.memory', '16g'), ('spark.driver.memory', '16g')])\n",
        "sc = ps.SparkContext(conf=conf)\n",
        "from pyspark.sql import SQLContext\n",
        "\n",
        "sql_context = SQLContext(sc)"
      ],
      "execution_count": 6,
      "outputs": [
        {
          "output_type": "stream",
          "name": "stderr",
          "text": [
            "/usr/local/lib/python3.7/dist-packages/pyspark/sql/context.py:114: FutureWarning: Deprecated in 3.0.0. Use SparkSession.builder.getOrCreate() instead.\n",
            "  FutureWarning,\n"
          ]
        }
      ]
    },
    {
      "cell_type": "markdown",
      "source": [
        "#Uploading the tweets file"
      ],
      "metadata": {
        "id": "Ah38bMM2ZtEd"
      }
    },
    {
      "cell_type": "code",
      "metadata": {
        "id": "9kZMrm2eJJQD"
      },
      "source": [
        "#setting data set path\n",
        "file=\"OutputStreaming.csv\""
      ],
      "execution_count": 16,
      "outputs": []
    },
    {
      "cell_type": "code",
      "metadata": {
        "id": "Mm1qJyn2KBie"
      },
      "source": [
        "#reading csv with headers\n",
        "tweets = sql_context.read.format('com.databricks.spark.csv').option('header','true').option(\"delimiter\", \",\").load(file)"
      ],
      "execution_count": 17,
      "outputs": []
    },
    {
      "cell_type": "code",
      "metadata": {
        "colab": {
          "base_uri": "https://localhost:8080/"
        },
        "id": "1pcFgA12KFx-",
        "outputId": "68a236d9-ed0f-4c1b-895a-c7f76d97a4e6"
      },
      "source": [
        "#tweets count\n",
        "print(tweets.count())"
      ],
      "execution_count": 18,
      "outputs": [
        {
          "output_type": "stream",
          "name": "stdout",
          "text": [
            "71465\n"
          ]
        }
      ]
    },
    {
      "cell_type": "code",
      "metadata": {
        "colab": {
          "base_uri": "https://localhost:8080/"
        },
        "id": "ZhnlX0pSUGH_",
        "outputId": "de2a6a26-1d76-424f-80c9-2f2e5a28bd26"
      },
      "source": [
        "#display complete tweet first 100\n",
        "tweets.show(100,truncate=False)\n"
      ],
      "execution_count": 19,
      "outputs": [
        {
          "output_type": "stream",
          "name": "stdout",
          "text": [
            "+------------------------------------------------------------------------------------------------------------------------------------------------------------------------------------------------------------------------------------------------------------------------+----+\n",
            "|text                                                                                                                                                                                                                                                                    |_c1 |\n",
            "+------------------------------------------------------------------------------------------------------------------------------------------------------------------------------------------------------------------------------------------------------------------------+----+\n",
            "|2022-07-19-22:18:52;ともいきの国伊勢忍者キングダム  ----------------------- #みんなで伊勢を良くし本気で日本と世界を変える人達が集まる株式会社 # みんなで大家さん;;7;parkkttt;56                                                                                         |null|\n",
            "|\"2022-07-19-22:18:54;RT @SalamAbay1: # Farmers in Tigray need protection. The Eritrean &amp  Amhara \"\"anti-farming 'campaign\"\" has created a full-blown famine. #Tigra…;;1267;TigrayKwgehEu;787\"                                                                        |null|\n",
            "|2022-07-19-22:18:54;RT @ChineseZimbabwe: See what 2 DECADES of ILLEGAL SANCTIONS are in eyes of Zim people: ·Weapon of mass destruction ·Close most industries…;;8;Garaipasi1;15                                                                                        |null|\n",
            "|2022-07-19-22:18:55;RT @RamonGovea: Alright #BAYC holder                                                                                                                                                                                                                |null|\n",
            "|2022-07-19-22:18:57;# $ ADA When starting staking                                                                                                                                                                                                                       |null|\n",
            "|2022-07-19-22:18:57;# Sehiman mal gobierno https://t.co/6aRYlh4L7V;;4;IsabelS51885610;6                                                                                                                                                                                 |null|\n",
            "|2022-07-19-22:18:59;RT @KpopKvoteph: MUBEAT GIVEAWAY  🎁150 beats &gt  winner will be based on proofs (Drop the proofs on your idols # below this tweet)  🎯Follow m…;;183;lovechatzy;92                                                                                |null|\n",
            "|2022-07-19-22:18:59;@ActuFoot_ On souffle de ce #;;1572;V4SKO_;397                                                                                                                                                                                                      |null|\n",
            "|2022-07-19-22:19:00;・  # ￤普段絡む人からも絡まない人からも突然リプが飛んでくる  えふえふおはよー！これ置いて学校行ってくるのでだれでもりぷくださいっ^ ̳ᴗ ·̫ ᴗ ̳^  ・ https://t.co/UMRLDhYwWB;;44;luv_uO90l;88                                                         |null|\n",
            "|2022-07-19-22:19:00;Kinky carolieen  leuk jong en #ondeugend ik verveelde mij dus ik dacht ik ga dit eens proberen! heb jij zin om same… https://t.co/rZYUPHR7f6;;1382;dutchmilf1;4127                                                                                  |null|\n",
            "|2022-07-19-22:19:00;RT @javitto_1972: Si o no...? # rechazodesalida https://t.co/ISMbyCtnNy;;181;albertr73865187;49                                                                                                                                                     |null|\n",
            "|2022-07-19-22:19:00;@FCB_Tryk Romero was rattled with the English media in the first place for him to even create the #;;77;ftbljosh;257                                                                                                                                |null|\n",
            "|2022-07-19-22:19:01;RT @thebardogbamola: Yoruba people will keep embarrassing themselves. I remember when I was shopping for an # IgboPresidency and I was ment…;;34;Ihekaibeyasmart;370                                                                                |null|\n",
            "|2022-07-19-22:19:02;RT @AaronLeupp: EVERYONE is a winner! 🎉🥳🔥❤️ FREE @Waifumons NFT to ALL 🎁 that post wallet # below! This #NFTGiveaway  ain't no .... Pokémon…;;30;fuyaozhishang19;303                                                                            |null|\n",
            "|2022-07-19-22:19:02;# En ce moment sur Palace Radio : Sheila Spacer (Fantomas Dub edit master)  / Ecouter Palace Radio (Paris):… https://t.co/CP9e971O99;;50;palace_radio;32                                                                                            |null|\n",
            "|2022-07-19-22:19:03;RT @thefriendgiants: MINT = LIVE! 🚀   Get yours now! https://t.co/uEavCX4Ynm   Be QUICK or CRY later. 👀   Benefits to those who mint in the…;;243;sy_blessedwin;2565                                                                              |null|\n",
            "|2022-07-19-22:19:04;# inconformada;;637;surreas;421                                                                                                                                                                                                                     |null|\n",
            "|2022-07-19-22:19:04;RT @thefriendgiants: MINT = LIVE! 🚀   Get yours now! https://t.co/uEavCX4Ynm   Be QUICK or CRY later. 👀   Benefits to those who mint in the…;;57;Stall06;1213                                                                                     |null|\n",
            "|2022-07-19-22:19:04;RT @apoyo_bts07: 🚨 DINAMICA #YetToCome #runBTS #ForYouth #BTS @BTS_twt #ARMY #BTSARMY #BTS_Proof  Comenta 1x1 RT vale y pon el #   #KCAMexi…;;28;mariana58918066;72                                                                                |null|\n",
            "|2022-07-19-22:19:05;RT @thefriendgiants: MINT = LIVE! 🚀   Get yours now! https://t.co/uEavCX4Ynm   Be QUICK or CRY later. 👀   Benefits to those who mint in the…;;59;Anisah1Fitriah;3234                                                                              |null|\n",
            "|2022-07-19-22:19:05;Just realized bruce says workaholic in here # I win https://t.co/fHqhLQeHaH;;354;fafeetas;396                                                                                                                                                       |null|\n",
            "|\"2022-07-19-22:19:06;Signed Underoath Autographed Colored 12\"\" Vinyl Lp Certified Jsa # Gg18048 [SIESM4T]  https://t.co/IzdeCAWirU;;0;Barry6215;1\"                                                                                                                      |null|\n",
            "|2022-07-19-22:19:07;RT @thefriendgiants: MINT = LIVE! 🚀   Get yours now! https://t.co/uEavCX4Ynm   Be QUICK or CRY later. 👀   Benefits to those who mint in the…;;16;0xmissglorya22;704                                                                               |null|\n",
            "|2022-07-19-22:19:07;RT @TomoMachi: じゃあ統一教会に乗っ取られてるあんたの党は韓国カルト自民党だろ;;123;SAVEGU1;69                                                                                                                                                       |null|\n",
            "|\"2022-07-19-22:19:08;RT @RebeccaSky: I'm seeing publishing professionals once again recommending \"\"write every day\"\" and wanted to remind y'all\"                                                                                                                        |null|\n",
            "|\"2022-07-19-22:19:08;RT @aldawood5: \"\"قد كان حُلمًا لا نظنُّ دنوّهُ  لكن فضلَ اللهِ كانَ عظيمًا\"\"  #الحمد_الله  #;;215;H42992830;75\"                                                                                                                                    |null|\n",
            "|\"2022-07-19-22:19:10;RT @ManarMDabbas: \"\"ولله جنود السموات والأرض\"\".  فخورون بتحقيق صقور سلاح الجو الملكي 🇯🇴 المركز الأول في عرض @airtattoo بأفضل طائرة بالعرض الأ…;;1514;TamerSayaheen;479\"                                                                          |null|\n",
            "|2022-07-19-22:19:12;bokep hd download #  dwonload bokep terbaru #  3gp porn movie download #  video bokep sek #  sex mp4 asian #  korea… https://t.co/6DuFVvvZ1g;;132;adigasfc;54                                                                                       |null|\n",
            "|2022-07-19-22:19:12;RT @kyomu_lwl: はじめます！　寝起き15分･･･💤  🖤【 朝枠 / 30分ラジオ 】☕ 朝の コーヒー に虚無をひとさじ # 45 【 Vtuber / 虚無 】 https://t.co/qakgLBjHS5;;204;BlckSwordsman31;1192                                                                  |null|\n",
            "|2022-07-19-22:19:14;RT @PORTAL_CNCO2: Utilicen la frase más el # para lograr entrar al chat de Billboard 🔥  PLUTON ESTÁ CERCA #PLUTON;;903;eavebeniz;1539                                                                                                              |null|\n",
            "|2022-07-19-22:19:16;RT @sawada46493: 今月1回目 新品iPad プレゼント企画  / 新型iPad or ギフト券3.5万円  抽選で1名様にプレゼント🎁 \\  🍀応募方法 ・本投稿リツイート ・私と@SJB_art_work のフォロー  🍀応募方法 7/23 23時59分 まで…;;792;Rarineru27;2156                   |null|\n",
            "|2022-07-19-22:19:16;https://t.co/zhxoJTBV5K;;1851;teamoonsj;4640                                                                                                                                                                                                        |null|\n",
            "|2022-07-19-22:19:19;Soledad_Home  Tech                     How tech companies are trying to woo employees returning to work after....… https://t.co/BuOd37VFIs;;1419;nerdswire;1564                                                                                     |null|\n",
            "|2022-07-19-22:19:20;RT @thefriendgiants: MINT = LIVE! 🚀   Get yours now! https://t.co/uEavCX4Ynm   Be QUICK or CRY later. 👀   Benefits to those who mint in the…;;326;softlwin_;4500                                                                                  |null|\n",
            "|2022-07-19-22:19:20;#Sasmos για μένα αυτό ισχύει  για όλα τα # για αυτο ποτε μου δεν θα βρίσω κανεναν;;16;sasmos_melisses;13                                                                                                                                            |null|\n",
            "|2022-07-19-22:19:21;RT @lRe5F1HJO8uUUI7: ไม่รู้เป็นไง ถูกเลียรูตูดทีไร ก็ยอมให้พี่เขาเอาควยใหญ่ๆยัดรูตูดทุกที # แอบผัว มาแหกรูตูด ให้เขาดูดแตด..ซม ริด บองเสก ไ…;;67;darksexxxtm;1528                                                                                   |null|\n",
            "|2022-07-19-22:19:21;RT @leoidair: NOmamen está Pedro Almodovar en el concierto de # Rosalía en Madrid! Me muero!!! Estoy a metros de mi director de cine favori…;;31;ricardo82345420;197                                                                                |null|\n",
            "|2022-07-19-22:19:21;@KDOTAgon J'suis allé voir le # et oui des gens aiment...;;572;onemon10;989                                                                                                                                                                         |null|\n",
            "|2022-07-19-22:19:21;@LuiginaLopez Lo jevi es que la empresa no responde a esas pérdidas. Pero de manera particular me ha funcionado inc… https://t.co/9QEfjPsfMs;;136;YolaineVasquez;379                                                                                |null|\n",
            "|2022-07-19-22:19:22;RT @INAMEH: Reporte de las 04:45 HLV # FelizMartes;;3122;AlexisBravo67;2963                                                                                                                                                                         |null|\n",
            "|2022-07-19-22:19:22;💯;;355;QuinnAlisson;413                                                                                                                                                                                                                            |null|\n",
            "|2022-07-19-22:19:23;RT @Roroqueen1234: هااي بوبيز  رتويت وفولو وتعالو لتحت فخاذي #ليز # كلب #عمة #ديوث_بدوي https://t.co/KQG15St4zw;;0;Ib_____1;3                                                                                                                       |null|\n",
            "|2022-07-19-22:19:24;# $ ADA When starting staking                                                                                                                                                                                                                       |null|\n",
            "|2022-07-19-22:19:24;RT @JackieMorehead2: @MissPin5th @DonorsChoose @support_a_teach @amazon I want to get some learning friends for my kiddos! I plan on having…;;1092;Bex0613;2128                                                                                     |null|\n",
            "|2022-07-19-22:19:24;RT @sawada46493: 今月1回目 新品iPad プレゼント企画  / 新型iPad or ギフト券3.5万円  抽選で1名様にプレゼント🎁 \\  🍀応募方法 ・本投稿リツイート ・私と@SJB_art_work のフォロー  🍀応募方法 7/23 23時59分 まで…;;3238;n18maguna_xx323;3780             |null|\n",
            "|2022-07-19-22:19:24;# 43/19 fuerza de un pueblo que vence https://t.co/zOk6siCUeC;;283;guilaGutierrez1;248                                                                                                                                                              |null|\n",
            "|2022-07-19-22:19:24;RT @_3620_: # 及川徹誕生祭2022 「おめでとう」 「え、聞こえなかった！もう一回！」  ※タップ推奨 誰が言ったかは御想像にお任せします😚 https://t.co/WeixGqtlbQ;;112;AE68vkIxJOYd9Zu;62                                                                  |null|\n",
            "|2022-07-19-22:19:24;RT @CNCOsite: Comprar la cancion en ITunes es muy importante‼️    PLUTON ESTÁ CERCA;;106;KevinCh0703;265                                                                                                                                            |null|\n",
            "|2022-07-19-22:19:24;So if that is you 👉🏻 make sure you get in contact with my team to ask about my LONDON EVENT on Saturday (limited sp… https://t.co/Ku2YlghSsm;;0;kerem_bikzma;80                                                                                   |null|\n",
            "|2022-07-19-22:19:24;RT @thefriendgiants: MINT = LIVE! 🚀   Get yours now! https://t.co/uEavCX4Ynm   Be QUICK or CRY later. 👀   Benefits to those who mint in the…;;66;Go_SenjA;1923                                                                                    |null|\n",
            "|2022-07-19-22:19:25;RT @thefriendgiants: MINT = LIVE! 🚀   Get yours now! https://t.co/uEavCX4Ynm   Be QUICK or CRY later. 👀   Benefits to those who mint in the…;;138;dkvncx;4991                                                                                     |null|\n",
            "|2022-07-19-22:19:26;@elvistoomas You seem REALLY concerned by posting her car / plate # for the whole world to see....🤔;;108;Dmenace1one;394                                                                                                                           |null|\n",
            "|2022-07-19-22:19:26;RT @origin1207: みんな読んだらいいよ。  有料記事がプレゼントされました！7月20日 21:32まで全文お読みいただけます 羽生結弦の決断を予感した日　感謝込めた北京でのスペシャルメドレー：朝日新聞デジタル https://t.co/xuEU0njzqj #;;8;konoha_second;26    |null|\n",
            "|2022-07-19-22:19:26;RT @abutariq6431: أصحابك أصحابك # https://t.co/96mmn621xb;;654;YMohd101;5011                                                                                                                                                                        |null|\n",
            "|2022-07-19-22:19:26;The trading with a lot of assets expirament failed. It is too hard to keep track of that many tickers                                                                                                                                               |null|\n",
            "|2022-07-19-22:19:26;# 내_팬이라면_흔적  제가 만ㄴ든 해시 잘 써주셔서 감사합니다;;682;yunsammo;345                                                                                                                                                                       |null|\n",
            "|2022-07-19-22:19:27;RT @thefriendgiants: MINT = LIVE! 🚀   Get yours now! https://t.co/uEavCX4Ynm   Be QUICK or CRY later. 👀   Benefits to those who mint in the…;;50;lifesuck08;4959                                                                                  |null|\n",
            "|2022-07-19-22:19:28;RT @thefriendgiants: MINT = LIVE! 🚀   Get yours now! https://t.co/uEavCX4Ynm   Be QUICK or CRY later. 👀   Benefits to those who mint in the…;;34;aaidhamm_;266                                                                                    |null|\n",
            "|2022-07-19-22:19:28;拡散⭐️;;3238;n18maguna_xx323;3780                                                                                                                                                                                                                   |null|\n",
            "|2022-07-19-22:19:28;صرت مستعد اكون انا الغلطان علمود انهي النقاش مع العقليه الجاهله. # {[(-_-)(-_-)]};;0;Hassane97926467;3                                                                                                                                              |null|\n",
            "|2022-07-19-22:19:28;RT @thefriendgiants: MINT = LIVE! 🚀   Get yours now! https://t.co/uEavCX4Ynm   Be QUICK or CRY later. 👀   Benefits to those who mint in the…;;40;0xTenLee_;1268                                                                                   |null|\n",
            "|2022-07-19-22:19:30;RT @NjayRican: LIKE AND RT if u ain't pulling out 💦🤤🥵🥵🥵🥵 #ThirstyThursday #thursdayvibes #cuminit #pullout #wap #fatwap #juicywap #onlyfans…;;9;Biralo23;261                                                                                  |null|\n",
            "|2022-07-19-22:19:30;RT @thefriendgiants: MINT = LIVE! 🚀   Get yours now! https://t.co/uEavCX4Ynm   Be QUICK or CRY later. 👀   Benefits to those who mint in the…;;204;2022b19_w1nn;4416                                                                               |null|\n",
            "|2022-07-19-22:19:31;RT @infantatemuer1: 来自我和主人的精选视频 弯弓射大雕🔞 投稿：@ChangLe9999 @ccav669   #反差婊 #母狗 #女上位 # https://t.co/TdOOXBsxBz;;19859;xiongbabyh;1                                                                                           |null|\n",
            "|2022-07-19-22:19:32;RT @NewPicVids: # @LetsDoe - #CherryKiss - Power Moves - Jul 18                                                                                                                                                                                     |null|\n",
            "|2022-07-19-22:19:32;RT @sawada46493: 今月1回目 新品iPad プレゼント企画  / 新型iPad or ギフト券3.5万円  抽選で1名様にプレゼント🎁 \\  🍀応募方法 ・本投稿リツイート ・私と@SJB_art_work のフォロー  🍀応募方法 7/23 23時59分 まで…;;403;minimaList_plan;2441              |null|\n",
            "|2022-07-19-22:19:37;@NTexasPolitics @JoJoFromJerz @CalltoActivism Not a Mother                                                                                                                                                                                          |null|\n",
            "|2022-07-19-22:19:37;野沢那智の声で思い出すなぁ。 『もう二度と高いビルには登らないからな！』  ブルース・ウィリス、約束を破って「ダイハード」のナカトミプラザに34年後に戻る https://t.co/aIsLAoHnrr? #;;853;toshio_nakaguro;1077                                          |null|\n",
            "|2022-07-19-22:19:38;RT @Ton_beri: 「理系5割」の政府目標を憂う元学長　文系が「刺し身のツマに」：朝日新聞デジタル https://t.co/MU1qLKMalD #  現在の35%って、理系大学生ってそんなに少ないんだ。そりゃ就職が相対的にラクなはずですね。;;785;kyorotyan_gomi2;785             |null|\n",
            "|2022-07-19-22:19:38;@cryptoben3rd @Richard77705364 @icyshills @CryptoEmdarks Relaunch window is open for @shiburai_token   #Nfts with g… https://t.co/sf7l791GtQ;;719;LarneyBen;178                                                                                     |null|\n",
            "|2022-07-19-22:19:39;@ActuFoot_ c’est le pire # de twitter oui oui;;5191;thbrt764;633                                                                                                                                                                                    |null|\n",
            "|2022-07-19-22:19:41;RT @shivondea_: - #shideapolls -  K-PLAY CHART 2022  🤍 400 SST  • like and rt • follow @shivondea_ • drop proof on the # ( proof not in # i…;;900;sunnshine_mars;1462                                                                              |null|\n",
            "|2022-07-19-22:19:41;RT @origin1207: みんな読んだらいいよ。  有料記事がプレゼントされました！7月20日 21:32まで全文お読みいただけます 羽生結弦の決断を予感した日　感謝込めた北京でのスペシャルメドレー：朝日新聞デジタル https://t.co/xuEU0njzqj #;;113;Yuzumi1207Quad;333|null|\n",
            "|2022-07-19-22:19:41;RT @luffydery: wts | want to sell  jeongwoo pop up selca / gws jihoon digipack only  yoshi tss ch 3   junkyu pb blue love   doyoung apw 2.0…;;1457;yellowaegyo;1072                                                                                 |null|\n",
            "|2022-07-19-22:19:42;# $ ADA When starting staking                                                                                                                                                                                                                       |null|\n",
            "|2022-07-19-22:19:43;📢ボクシングスターノックアウト&amp セレモニーリアクション  * アップロード可能なSNSはTikTok/インスタグラム/フェイスブックです。  投稿に#ハッシュタグを付ける（必須！） # ハッシュタグ:#fyp #viral… https://t.co/L64XA4EVK5;;1;yukie_winter;3         |null|\n",
            "|2022-07-19-22:19:43;@louistcai como no sirvan los # m cortó #LookBothWays;;29;louitt91;38                                                                                                                                                                               |null|\n",
            "|2022-07-19-22:19:44;But I'm America                                                                                                                                                                                                                                     |null|\n",
            "|2022-07-19-22:19:44;RT @ugwuseba: Peter Obi is yet to be President but see how the entire nation is celebrating him. But Obidients una wicked ooo😂 have you guy…;;2;SafemoonAfrica3;6                                                                                  |null|\n",
            "|2022-07-19-22:19:44;keninis aqui;;1655;aitanagatitos;861                                                                                                                                                                                                                |null|\n",
            "|2022-07-19-22:19:45;RT @yazu__dc: # YoungJustice #DickGrayson https://t.co/n2PzqehZMx;;112;kZuroha;836                                                                                                                                                                  |null|\n",
            "|2022-07-19-22:19:46;RT @Messiskz1: VOTE GIVEAWAY [IDOL CHAMP] 300 hearts ❤️  (⇀‸↼‶): like and retweet my pinned tweet  (⇀‸↼‶): follow me   (⇀‸↼‶): drop proofs…;;5270;Faezeexo1;5412                                                                                    |null|\n",
            "|2022-07-19-22:19:46;RT @SpaceCNCO: Para debutar directamente en los charts de Billboard se necesita tener por lo menos 20 # 1️⃣ en Itunes y mantenerlos                                                                                                                 |null|\n",
            "|2022-07-19-22:19:47;@BriaNamtar Seems to me like you are preparing already… just put your # and where to send those maruchan soups…;;723;eltakuache;1169                                                                                                                |null|\n",
            "|2022-07-19-22:19:48;RT @AaronLeupp: EVERYONE is a winner! 🎉🥳🔥❤️ FREE @Waifumons NFT to ALL 🎁 that post wallet # below! This #NFTGiveaway  ain't no .... Pokémon…;;86;JumbitoElChewy;258                                                                             |null|\n",
            "|2022-07-19-22:19:49;RT @thefriendgiants: MINT = LIVE! 🚀   Get yours now! https://t.co/uEavCX4Ynm   Be QUICK or CRY later. 👀   Benefits to those who mint in the…;;336;AhmadUllah21;3922                                                                               |null|\n",
            "|2022-07-19-22:19:49;@IlhanMN It's amazing the # of people complaining that they are pretending to be handcuffed while totally ignoring… https://t.co/ZpSYuAtxaW;;3634;baderwoman007;4728                                                                                |null|\n",
            "|2022-07-19-22:19:50;# $ ADA When starting staking                                                                                                                                                                                                                       |null|\n",
            "|2022-07-19-22:19:50;RT @ToxicDick88: #WorkNut #nsfwtw #NSFW #BigBlackCockLover #BigBlackDick #Thunderstorm #cantsleep #LoveIsland # https://t.co/oU6UvXn2qy;;709;dl_slime;681                                                                                           |null|\n",
            "|2022-07-19-22:19:51;@guardian The universe will never due to dispersal and lack of momentum finally halt  Einstein worked his equation… https://t.co/1uvtYoMg0c;;537;Jonqiulity;2882                                                                                    |null|\n",
            "|2022-07-19-22:19:51;RT @thefriendgiants: MINT = LIVE! 🚀   Get yours now! https://t.co/uEavCX4Ynm   Be QUICK or CRY later. 👀   Benefits to those who mint in the…;;57;broowinm;789                                                                                     |null|\n",
            "|2022-07-19-22:19:51;RT @CNCOsite: Comprar la cancion en ITunes es muy importante‼️    PLUTON ESTÁ CERCA;;464;NewsOsken;384                                                                                                                                              |null|\n",
            "|2022-07-19-22:19:51;RT @NewPicVids: # @XEmpireNews - #BlakeBlossom                                                                                                                                                                                                      |null|\n",
            "|2022-07-19-22:19:51;カルト宗教党がなんか言ってるぞ;;123;SAVEGU1;69                                                                                                                                                                                                      |null|\n",
            "|2022-07-19-22:19:52;#もう安倍友コメンテーターはいらない #;;925;shigeho12345;2114                                                                                                                                                                                        |null|\n",
            "|2022-07-19-22:19:53;RT @thefriendgiants: MINT = LIVE! 🚀   Get yours now! https://t.co/uEavCX4Ynm   Be QUICK or CRY later. 👀   Benefits to those who mint in the…;;138;YaaBismillahW1N;870                                                                             |null|\n",
            "|2022-07-19-22:19:53;RT @vkstigm: # tags para votação                                                                                                                                                                                                                    |null|\n",
            "|2022-07-19-22:19:53;Vulnerabilidad: la fuerza que no sabías que tenías https://t.co/TS5Lewpnzp # vía @psicologiamente;;257;CoachPremier;158                                                                                                                             |null|\n",
            "|2022-07-19-22:19:54;RT @thefriendgiants: MINT = LIVE! 🚀   Get yours now! https://t.co/uEavCX4Ynm   Be QUICK or CRY later. 👀   Benefits to those who mint in the…;;1055;19Hori_zoN;1785                                                                                |null|\n",
            "|2022-07-19-22:19:56;RT @shcyhome: SHCY Monthly Digest - July 2022 https://t.co/vqC1IznJAO #;;7023;histchild;3167                                                                                                                                                        |null|\n",
            "+------------------------------------------------------------------------------------------------------------------------------------------------------------------------------------------------------------------------------------------------------------------------+----+\n",
            "only showing top 100 rows\n",
            "\n"
          ]
        }
      ]
    },
    {
      "cell_type": "code",
      "source": [
        "#dropping unwanted columns\n",
        "tweets=tweets.drop(\"_c1\")\n"
      ],
      "metadata": {
        "id": "ngHlOorBIZOg"
      },
      "execution_count": 20,
      "outputs": []
    },
    {
      "cell_type": "code",
      "metadata": {
        "id": "ZU12CKB-Wd96"
      },
      "source": [
        "tweets.createOrReplaceTempView(\"tweets\")"
      ],
      "execution_count": 22,
      "outputs": []
    },
    {
      "cell_type": "code",
      "metadata": {
        "colab": {
          "base_uri": "https://localhost:8080/"
        },
        "id": "7HPE6zLAZIBa",
        "outputId": "bcdb0345-f2b7-48fd-b905-cd6e8a7e237f"
      },
      "source": [
        "tweets.show()"
      ],
      "execution_count": 23,
      "outputs": [
        {
          "output_type": "stream",
          "name": "stdout",
          "text": [
            "+--------------------+\n",
            "|                text|\n",
            "+--------------------+\n",
            "|2022-07-19-22:18:...|\n",
            "|\"2022-07-19-22:18...|\n",
            "|2022-07-19-22:18:...|\n",
            "|2022-07-19-22:18:...|\n",
            "|2022-07-19-22:18:...|\n",
            "|2022-07-19-22:18:...|\n",
            "|2022-07-19-22:18:...|\n",
            "|2022-07-19-22:18:...|\n",
            "|2022-07-19-22:19:...|\n",
            "|2022-07-19-22:19:...|\n",
            "|2022-07-19-22:19:...|\n",
            "|2022-07-19-22:19:...|\n",
            "|2022-07-19-22:19:...|\n",
            "|2022-07-19-22:19:...|\n",
            "|2022-07-19-22:19:...|\n",
            "|2022-07-19-22:19:...|\n",
            "|2022-07-19-22:19:...|\n",
            "|2022-07-19-22:19:...|\n",
            "|2022-07-19-22:19:...|\n",
            "|2022-07-19-22:19:...|\n",
            "+--------------------+\n",
            "only showing top 20 rows\n",
            "\n"
          ]
        }
      ]
    },
    {
      "cell_type": "code",
      "metadata": {
        "colab": {
          "base_uri": "https://localhost:8080/"
        },
        "id": "_CFFWc2MZTGi",
        "outputId": "b39bbe85-b344-44b2-885d-573e3c189d20"
      },
      "source": [
        "print(tweets.count())\n",
        "\n"
      ],
      "execution_count": 25,
      "outputs": [
        {
          "output_type": "stream",
          "name": "stdout",
          "text": [
            "71465\n"
          ]
        }
      ]
    },
    {
      "cell_type": "markdown",
      "source": [
        "# Extracting the URLs from the tweets"
      ],
      "metadata": {
        "id": "BtyJNHF0cLXa"
      }
    },
    {
      "cell_type": "code",
      "source": [
        "urls = tweets.withColumn(\"text\", regexp_extract( \"text\", \"(?:\\http?\\://|https?\\://|www)\\S+\", 0))\n",
        "urls = urls.withColumn(\"text\", regexp_replace(\"text\", \" \", \"\"))\n",
        "urls.na.drop(\"all\")\n",
        "urls.show()"
      ],
      "metadata": {
        "colab": {
          "base_uri": "https://localhost:8080/"
        },
        "id": "S82RHrmCnMJs",
        "outputId": "d967cffb-8b1f-476f-f0d9-5aed53191613"
      },
      "execution_count": 26,
      "outputs": [
        {
          "output_type": "stream",
          "name": "stdout",
          "text": [
            "+--------------------+\n",
            "|                text|\n",
            "+--------------------+\n",
            "|                    |\n",
            "|                    |\n",
            "|                    |\n",
            "|                    |\n",
            "|                    |\n",
            "|https://t.co/6aRY...|\n",
            "|                    |\n",
            "|                    |\n",
            "|https://t.co/UMRL...|\n",
            "|https://t.co/rZYU...|\n",
            "|https://t.co/ISMb...|\n",
            "|                    |\n",
            "|                    |\n",
            "|                    |\n",
            "|https://t.co/CP9e...|\n",
            "|https://t.co/uEav...|\n",
            "|                    |\n",
            "|https://t.co/uEav...|\n",
            "|                    |\n",
            "|https://t.co/uEav...|\n",
            "+--------------------+\n",
            "only showing top 20 rows\n",
            "\n"
          ]
        }
      ]
    },
    {
      "cell_type": "markdown",
      "source": [
        "# Extracting Hastags from the tweets"
      ],
      "metadata": {
        "id": "C6LG3OXZcR2V"
      }
    },
    {
      "cell_type": "code",
      "source": [
        "hashtags =  tweets.withColumn(\"text\",  regexp_extract( \"text\", \"#(\\w+)\",0))\n",
        "hashtags = hashtags.withColumn(\"text\", regexp_replace(\"text\", \" \", \"\"))\n",
        "hashtags.dropna()\n",
        "hashtags.filter(hashtags.text.isNotNull()).collect()\n",
        "hashtags.show()"
      ],
      "metadata": {
        "colab": {
          "base_uri": "https://localhost:8080/"
        },
        "id": "LICNpNv5lk_v",
        "outputId": "d91f12d2-810a-444e-868d-116696a8be63"
      },
      "execution_count": 27,
      "outputs": [
        {
          "output_type": "stream",
          "name": "stdout",
          "text": [
            "+------------+\n",
            "|        text|\n",
            "+------------+\n",
            "|            |\n",
            "|      #Tigra|\n",
            "|            |\n",
            "|       #BAYC|\n",
            "|            |\n",
            "|            |\n",
            "|            |\n",
            "|            |\n",
            "|            |\n",
            "|  #ondeugend|\n",
            "|            |\n",
            "|            |\n",
            "|            |\n",
            "|#NFTGiveaway|\n",
            "|            |\n",
            "|            |\n",
            "|            |\n",
            "|            |\n",
            "|  #YetToCome|\n",
            "|            |\n",
            "+------------+\n",
            "only showing top 20 rows\n",
            "\n"
          ]
        }
      ]
    },
    {
      "cell_type": "markdown",
      "source": [
        "## Calculating the word count for Hashtags"
      ],
      "metadata": {
        "id": "5WoqnDAVcfRR"
      }
    },
    {
      "cell_type": "code",
      "source": [
        "wordCountsDF = (hashtags.groupBy('text').count())\n",
        "wordCountsDF.show()"
      ],
      "metadata": {
        "colab": {
          "base_uri": "https://localhost:8080/"
        },
        "id": "SdkTccklyBX3",
        "outputId": "9fc3f511-5807-4863-a101-1641baca648e"
      },
      "execution_count": 29,
      "outputs": [
        {
          "output_type": "stream",
          "name": "stdout",
          "text": [
            "+--------------------+-----+\n",
            "|                text|count|\n",
            "+--------------------+-----+\n",
            "|               #WSOP|    3|\n",
            "|     #bentablesnimai|    3|\n",
            "|                #NHK|    3|\n",
            "|         #invitation|    3|\n",
            "|                #mbc|    3|\n",
            "|           #OhmNanon|    3|\n",
            "|          #hairstyle|    9|\n",
            "|       #ElectricGrid|    3|\n",
            "|        #SolarPanels|    3|\n",
            "|#AmberHeardIsAHus...|    3|\n",
            "|        #riverratgsm|    3|\n",
            "|                #FBA|    3|\n",
            "|          #beautiful|    3|\n",
            "|           #DonBelle|    3|\n",
            "|             #PLUTON|   96|\n",
            "|              #AYAKA|   21|\n",
            "|           #GayBoysX|    3|\n",
            "|          #aespaflop|    3|\n",
            "|                 #DM|    3|\n",
            "|             #TikTok|    6|\n",
            "+--------------------+-----+\n",
            "only showing top 20 rows\n",
            "\n"
          ]
        }
      ]
    },
    {
      "cell_type": "markdown",
      "source": [
        "# Calculating the word count for URLs"
      ],
      "metadata": {
        "id": "hGBcP8A_chrl"
      }
    },
    {
      "cell_type": "code",
      "source": [
        "wordCountsDF1 = (urls.groupBy('text').count())\n",
        "wordCountsDF1.show()"
      ],
      "metadata": {
        "colab": {
          "base_uri": "https://localhost:8080/"
        },
        "id": "lDrIilnE2jIp",
        "outputId": "52e4d050-b7f6-4d09-8cc8-87c780205710"
      },
      "execution_count": 30,
      "outputs": [
        {
          "output_type": "stream",
          "name": "stdout",
          "text": [
            "+--------------------+-----+\n",
            "|                text|count|\n",
            "+--------------------+-----+\n",
            "|https://t.co/dnEg...|    3|\n",
            "|https://t.co/H2pU...|    3|\n",
            "|https://t.co/EHOT...|    3|\n",
            "|https://t.co/NvPb...|    3|\n",
            "|https://t.co/XtGP...|    3|\n",
            "|https://t.co/tSxe...|    3|\n",
            "|https://t.co/EJAi...|    3|\n",
            "|https://t.co/CkfU...|    3|\n",
            "|https://t.co/3jEF...|    3|\n",
            "|https://t.co/Fzii...|    3|\n",
            "|https://t.co/tMa8...|    3|\n",
            "|https://t.co/A2P7...|    6|\n",
            "|https://t.co/wuX9...|    3|\n",
            "|https://t.co/4gRB...|    3|\n",
            "|https://t.co/x61R...|    3|\n",
            "|https://t.co/D6oT...|    3|\n",
            "|https://t.co/hOqS...|    3|\n",
            "|https://t.co/lYpW...|    3|\n",
            "|https://t.co/jHFI...|    3|\n",
            "|https://t.co/ZY8Z...|    3|\n",
            "+--------------------+-----+\n",
            "only showing top 20 rows\n",
            "\n"
          ]
        }
      ]
    }
  ]
}